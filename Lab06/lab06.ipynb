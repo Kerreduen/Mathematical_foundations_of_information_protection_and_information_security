{
 "cells": [
  {
   "cell_type": "markdown",
   "id": "7560e8ec-9ac9-4807-8a1b-e61ea22b0964",
   "metadata": {},
   "source": [
    "## <div align=\"center\"> <h2 align=\"center\"> РОССИЙСКИЙ УНИВЕРСИТЕТ ДРУЖБЫ НАРОДОВ </h1> </div>\n",
    "## <div align=\"center\"> <h3 align=\"center\"> Факультет физико-математических и естественных наук </h2> </div>\n",
    "## <div align=\"center\"> <h3 align=\"center\"> Кафедра математического моделирования и искусственного интеллекта </h2> </div>\n",
    "## <div align=\"center\"> <h3 align=\"center\"> Дисциплина: МОЗИиИБ </h2> </div>\n",
    "## Отчет по лабораторной работе № 6\n",
    "## Студент: Евдокимов Максим Михайлович\n",
    "## Группа: НФИмд-01-24\n",
    "## Разложение чисел на множители"
   ]
  },
  {
   "cell_type": "markdown",
   "id": "19d24d90-c986-42d7-87f1-bad4f3182a7e",
   "metadata": {},
   "source": [
    "# задание\n",
    "\n",
    "1. Реализовать рассмотренные алгоритмы программно (алгоритм реализующий \n",
    "p-метод Полларда).\n",
    "2. Разложить на множители предложенные преподавателем числа."
   ]
  },
  {
   "cell_type": "code",
   "execution_count": 67,
   "id": "0123fa8f-f4c9-47d2-ad1d-151b009fa609",
   "metadata": {},
   "outputs": [
    {
     "data": {
      "text/plain": [
       "pollard_rho (generic function with 2 methods)"
      ]
     },
     "execution_count": 67,
     "metadata": {},
     "output_type": "execute_result"
    }
   ],
   "source": [
    "# функция реализующая p-метод Полларда для нахождения нетривиального делителя числа n.\n",
    "using Primes\n",
    "\n",
    "function pollard_rho(n::Integer, max_iter::Integer=5000) # больше колличество итераций нет смысла.\n",
    "    x, y, d, iter, c = 2, 2, 1, 0, 1\n",
    "    g = x -> (x^2 + c) % n # функция, используемая в методе Полларда.\n",
    "\n",
    "    while d == 1 && iter < max_iter\n",
    "        x = g(x)\n",
    "        y = g(g(y))\n",
    "        d = gcd(abs(x - y), n)\n",
    "        iter += 1\n",
    "    end\n",
    "\n",
    "    if d == n\n",
    "        return nothing  # Фактор не найден\n",
    "    else\n",
    "        return d\n",
    "    end\n",
    "end"
   ]
  },
  {
   "cell_type": "code",
   "execution_count": 68,
   "id": "e35ba99a-c7ee-4f19-a972-f2a2815687b7",
   "metadata": {},
   "outputs": [
    {
     "data": {
      "text/plain": [
       "factorize_pollard_rho (generic function with 1 method)"
      ]
     },
     "execution_count": 68,
     "metadata": {},
     "output_type": "execute_result"
    }
   ],
   "source": [
    "# Функиця для разложения числа n на множители.\n",
    "function factorize_pollard_rho(n::Integer)\n",
    "    if isprime(n)\n",
    "        return \"Число n является простым, поэтому фактор не найден.\"\n",
    "    end\n",
    "    factors = []\n",
    "    while n > 1 # вызывать pollard_rho до тех пор, пока n не будет полностью разложено на простые множители.\n",
    "        if isprime(n)\n",
    "            push!(factors, n)\n",
    "            break\n",
    "        end\n",
    "        factor = pollard_rho(n)\n",
    "        if factor === nothing\n",
    "            return \"Фактор не найден за максимальное число итераций.\"\n",
    "        end\n",
    "        push!(factors, factor)\n",
    "        n ÷= factor\n",
    "    end\n",
    "    return unique(factors) # удаление дубликатов.\n",
    "end\n"
   ]
  },
  {
   "cell_type": "code",
   "execution_count": 69,
   "id": "f94e2a1f-d418-47cd-b47e-f0ea1b1050e8",
   "metadata": {},
   "outputs": [
    {
     "data": {
      "text/plain": [
       "10×3 Matrix{Int64}:\n",
       " 3623  4519  3769\n",
       " 7798  4321  7212\n",
       " 2190  8150   211\n",
       " 9621  2374  5930\n",
       " 1071  9959  1430\n",
       " 7838  2713  9227\n",
       " 5020   522  5405\n",
       " 1407  5853  7026\n",
       " 3432  8417  2994\n",
       " 9852  9479  8200"
      ]
     },
     "execution_count": 69,
     "metadata": {},
     "output_type": "execute_result"
    }
   ],
   "source": [
    "# Значение для теста\n",
    "tests = rand(10:10000, 10, 3)"
   ]
  },
  {
   "cell_type": "code",
   "execution_count": 70,
   "id": "50323210-376b-420d-a0af-5ada382465bc",
   "metadata": {},
   "outputs": [
    {
     "name": "stdout",
     "output_type": "stream",
     "text": [
      "Тест 1:\n",
      "Множители числа 3623: Число n является простым, поэтому фактор не найден.\n",
      "Множители числа 7798: Any[7, 2, 557]\n",
      "Множители числа 2190: Any[3, 2, 5, 73]\n",
      "Множители числа 9621: Any[3, 1069]\n",
      "Множители числа 1071: Any[21, 3, 17]\n",
      "Множители числа 7838: Any[2, 3919]\n",
      "Множители числа 5020: Any[4, 5, 251]\n",
      "Множители числа 1407: Any[21, 67]\n",
      "Множители числа 3432: Any[3, 88, 13]\n",
      "Множители числа 9852: Any[3, 4, 821]\n",
      "Тест 2:\n",
      "Множители числа 4519: Число n является простым, поэтому фактор не найден.\n",
      "Множители числа 4321: Any[29, 149]\n",
      "Множители числа 8150: Any[2, 25, 163]\n",
      "Множители числа 2374: Any[2, 1187]\n",
      "Множители числа 9959: Any[23, 433]\n",
      "Множители числа 2713: Число n является простым, поэтому фактор не найден.\n",
      "Множители числа 522: Any[3, 2, 29]\n",
      "Множители числа 5853: Any[3, 1951]\n",
      "Множители числа 8417: Any[19, 443]\n",
      "Множители числа 9479: Число n является простым, поэтому фактор не найден.\n",
      "Тест 3:\n",
      "Множители числа 3769: Число n является простым, поэтому фактор не найден.\n",
      "Множители числа 7212: Any[3, 4, 601]\n",
      "Множители числа 211: Число n является простым, поэтому фактор не найден.\n",
      "Множители числа 5930: Any[2, 5, 593]\n",
      "Множители числа 1430: Any[22, 5, 13]\n",
      "Множители числа 9227: Число n является простым, поэтому фактор не найден.\n",
      "Множители числа 5405: Any[5, 23, 47]\n",
      "Множители числа 7026: Any[3, 2, 1171]\n",
      "Множители числа 2994: Any[3, 2, 499]\n",
      "Множители числа 8200: Any[8, 25, 41]\n"
     ]
    }
   ],
   "source": [
    "# вызов функции, тест.\n",
    "for i in 1:size(tests)[2]\n",
    "    println(\"Тест \", i, \":\")\n",
    "    for j in 1:size(tests)[1]\n",
    "        factors = factorize_pollard_rho(tests[j, i])\n",
    "        println(\"Множители числа \", tests[j, i],\": \", factors)\n",
    "    end\n",
    "end"
   ]
  },
  {
   "cell_type": "code",
   "execution_count": null,
   "id": "692f8776-14cb-4fd2-a778-1d9543a98561",
   "metadata": {},
   "outputs": [],
   "source": []
  }
 ],
 "metadata": {
  "kernelspec": {
   "display_name": "Julia 1.10.5",
   "language": "julia",
   "name": "julia-1.10"
  },
  "language_info": {
   "file_extension": ".jl",
   "mimetype": "application/julia",
   "name": "julia",
   "version": "1.10.5"
  }
 },
 "nbformat": 4,
 "nbformat_minor": 5
}
