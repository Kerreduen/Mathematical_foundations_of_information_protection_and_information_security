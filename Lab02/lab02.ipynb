{
 "cells": [
  {
   "cell_type": "markdown",
   "id": "efa03cce-8e78-4cf1-a3fb-8b10e4bc13cb",
   "metadata": {},
   "source": [
    "## <div align=\"center\"> <h2 align=\"center\"> РОССИЙСКИЙ УНИВЕРСИТЕТ ДРУЖБЫ НАРОДОВ </h1> </div>\n",
    "## <div align=\"center\"> <h3 align=\"center\"> Факультет физико-математических и естественных наук </h2> </div>\n",
    "## <div align=\"center\"> <h3 align=\"center\"> Кафедра математического моделирования и искусственного интеллекта </h2> </div>\n",
    "## <div align=\"center\"> <h3 align=\"center\"> Дисциплина: МОЗИиИБ </h2> </div>\n",
    "## Отчет по лабораторной работе № 2\n",
    "## Студент: Евдокимов Максим Михайлович\n",
    "## Группа: НФИмд-01-24\n",
    "## Шифры перестоновки"
   ]
  },
  {
   "cell_type": "markdown",
   "id": "9ab0ed07-66de-4075-96dd-d4bfd4ba1139",
   "metadata": {},
   "source": [
    "### 1) Маршрутное шифрование"
   ]
  },
  {
   "cell_type": "code",
   "execution_count": 1,
   "id": "1e6849a4-2511-49f7-9e50-f1a5e70d6f3e",
   "metadata": {},
   "outputs": [
    {
     "name": "stdout",
     "output_type": "stream",
     "text": [
      "Кодирование: 'Ой что то мы засиделись братцы, Не пора ли нам разгуляться' => 'тй чОоот  аы змседилбсь ирцтаы  Не,паро аи нлмар зтулягь_яс_'\n",
      "Декодирование: 'тй чОоот  аы змседилбсь ирцтаы  Не,паро аи нлмар зтулягь_яс_' => 'Ой что то мы засиделись братцы, Не пора ли нам разгуляться'"
     ]
    }
   ],
   "source": [
    "function route_crypt(text::String, route::Char)\n",
    "    matrix, n = creating_r(text)\n",
    "    res = r_crypted(matrix, n)\n",
    "    if route == 'd'\n",
    "        res = replace(res, '_' => \"\")\n",
    "    end\n",
    "    return res\n",
    "end\n",
    "\n",
    "function creating_r(t::String)\n",
    "    m, rez = split(t, \"\"), Vector{Vector{String}}(undef, 0)\n",
    "    dividers, len, d = [5, 6, 7], length(t), 0\n",
    "    while d == 0\n",
    "        if len % dividers[1] == 0\n",
    "            d = 5\n",
    "        elseif len % dividers[2] == 0\n",
    "            d = 6\n",
    "        elseif len % dividers[3] == 0\n",
    "            d = 7\n",
    "        else\n",
    "            push!(m, \"_\")\n",
    "            len += 1\n",
    "        end\n",
    "    end\n",
    "    for i in 1:len\n",
    "        if i%d == 1\n",
    "            push!(rez, [])\n",
    "        end\n",
    "        push!(rez[end], m[i])\n",
    "    end\n",
    "    return rez, [div(len, d), d]\n",
    "end\n",
    "\n",
    "function r_crypted(m::Vector, n::Vector)\n",
    "    ec1, ec2= fill(\"\", n[1], n[2]), \"\"\n",
    "    for i in 1:n[1]\n",
    "        for j in 1:n[2]\n",
    "            if j%2 == 0\n",
    "                ec1[i, j] = m[i][end-j+1]\n",
    "            else\n",
    "                ec1[i, j] = m[i][j]\n",
    "            end\n",
    "        end\n",
    "    end\n",
    "    for i in 1:n[1]\n",
    "        for j in 1:n[2]\n",
    "            if i%2 == 1\n",
    "                ec2 *= ec1[i, end-j+1]\n",
    "            else\n",
    "                ec2 *= ec1[i, j]\n",
    "            end\n",
    "        end\n",
    "    end\n",
    "    return ec2\n",
    "end\n",
    "\n",
    "\n",
    "encoded_r = \"Ой что то мы засиделись братцы, Не пора ли нам разгуляться\"\n",
    "#encoded_r = \"0123456789abcdef\"\n",
    "result1 = route_crypt(encoded_r, 'e')\n",
    "println(\"Кодирование: '\", encoded_r, \"' => '\", result1, \"'\")\n",
    "result2 = route_crypt(result1, 'd')\n",
    "print(\"Декодирование: '\", result1, \"' => '\", result2, \"'\")"
   ]
  },
  {
   "cell_type": "markdown",
   "id": "ccd3f9b4-9f54-466c-ba89-c5b62fd3cb24",
   "metadata": {},
   "source": [
    "### 2) Шифрование с помощью решеток"
   ]
  },
  {
   "cell_type": "code",
   "execution_count": 219,
   "id": "c94ea1b4-874f-42cc-bb2a-360ba30f1dbc",
   "metadata": {},
   "outputs": [
    {
     "name": "stdout",
     "output_type": "stream",
     "text": [
      "Кодирование: 'Cдать лабу до 28 числа включительно' => 'длуадьаCтб  ис8лв о а2ч клнюо_елчьит'\n",
      "Декодирование: 'длуадьаCтб  ис8лв о а2ч клнюо_елчьит' => 'Cдать лабу до 28 числа включительно'\n"
     ]
    }
   ],
   "source": [
    "function grid_crypt(text::String, route::Char, k::Vector)\n",
    "    matrix, n = creating_g(text)\n",
    "    cd = deepcopy(k)\n",
    "    if route == 'd'\n",
    "        cd = 4 .- cd\n",
    "        res = g_crypted(matrix, n, cd)\n",
    "        res = replace(res, '_' => \"\")\n",
    "    else\n",
    "        res = g_crypted(matrix, n, cd)\n",
    "    end\n",
    "    return res\n",
    "end\n",
    "\n",
    "function creating_g(t::String)\n",
    "    m, rez = split(t, \"\"), Vector{Vector{String}}(undef, 0)\n",
    "    dividers, len, d = [4, 6, 8, 10], length(t), 0\n",
    "    while d == 0\n",
    "        if len == dividers[1]^2\n",
    "            d = dividers[1]\n",
    "        elseif len == dividers[2]^2\n",
    "            d = dividers[2]\n",
    "        elseif len == dividers[3]^2\n",
    "            d = dividers[3]\n",
    "        elseif len == dividers[4]^2\n",
    "            d = dividers[4]\n",
    "        else\n",
    "            push!(m, \"_\")\n",
    "            len += 1\n",
    "        end\n",
    "    end\n",
    "    for i in 1:len\n",
    "        if i%d == 1\n",
    "            push!(rez, [])\n",
    "        end\n",
    "        push!(rez[end], m[i])\n",
    "    end\n",
    "    return rez, d\n",
    "end\n",
    "\n",
    "function g_crypted(m::Vector, n::Int, moves::Vector)\n",
    "    m_cube = fill(\"_\", n, n)\n",
    "    for i in 1:2:n\n",
    "        for j in 1:2:n\n",
    "            temp = circshift([m[i][j], m[i][j+1], m[i+1][j], m[i+1][j+1]], moves[end])\n",
    "            pop!(moves)\n",
    "            m_cube[i, j] = temp[1]\n",
    "            m_cube[i, j+1] = temp[2]\n",
    "            m_cube[i+1, j] = temp[3]\n",
    "            m_cube[i+1, j+1] = temp[4]\n",
    "        end\n",
    "    end\n",
    "    return join(join.(eachrow(m_cube)), \"\")\n",
    "end\n",
    "\n",
    "encoded_g = \"Cдать лабу до 28 числа включительно\"\n",
    "#encoded_g = \"Make a peace of.\"\n",
    "key = [3, 2, 1, 1, 2, 2, 2, 3, 3, 2, 3, 2, 1, 0, 1, 3, 2, 1, 1, 3]\n",
    "result3 = grid_crypt(encoded_g, 'e', key)\n",
    "println(\"Кодирование: '\", encoded_g, \"' => '\", result3, \"'\")\n",
    "result4 = grid_crypt(result3, 'd', key)\n",
    "println(\"Декодирование: '\", result3, \"' => '\", result4, \"'\")"
   ]
  },
  {
   "cell_type": "markdown",
   "id": "6fd6b5bb-1121-4774-8dd3-7709a9b84017",
   "metadata": {},
   "source": [
    "### 3) таблица Вижинера"
   ]
  },
  {
   "cell_type": "code",
   "execution_count": 218,
   "id": "8d539b8e-f7af-4262-b8cf-e47edd266e91",
   "metadata": {},
   "outputs": [
    {
     "name": "stdout",
     "output_type": "stream",
     "text": [
      "Кодирование: 'кабы не было зимы в городах и селах' => 'ыесэ эц сэрю мшоа у урхюхее н вкывъ'\n",
      "Декодирование: 'ыесэ эц сэрю мшоа у урхюхее н вкывъ' => 'кабы не было зимы в городах и селах'\n"
     ]
    }
   ],
   "source": [
    "function Vigener_crypt(text::String, route::Char, k)\n",
    "    sw, temp = split(text, \"\"), split(k, \"\")\n",
    "    nw, nk = length(sw), length(temp)\n",
    "    sk = [temp[1+(j%nk)] for j in 0:nw]\n",
    "    res = g_crypted(sw, sk, nw, route)\n",
    "    return res\n",
    "end\n",
    "\n",
    "function g_crypted(w1::Vector, w2::Vector, n::Int, r::Char)\n",
    "    alfTable = [circshift([i for i in 'а':'я'], j) for j in 0:-1:-31]\n",
    "    m = fill(\"_\", n)\n",
    "    for i in 1:n\n",
    "        if !(first(w1[i]) in 'а':'я')\n",
    "            m[i] = w1[i]\n",
    "        elseif r == 'e'\n",
    "            xn = Int(first(w1[i])) - Int('а') + 1\n",
    "            yn = Int(first(w2[i])) - Int('а') + 1\n",
    "            m[i] = string(alfTable[yn][xn])\n",
    "        else\n",
    "            yn = Int(first(w2[i])) - Int('а') + 1\n",
    "            xn = 0\n",
    "            for j in 1:32\n",
    "                if first(w1[i]) == alfTable[yn][j]\n",
    "                    xn = j\n",
    "                end\n",
    "            end\n",
    "            m[i] = string(alfTable[1][xn])\n",
    "        end\n",
    "    end\n",
    "    return join(m)\n",
    "end\n",
    "\n",
    "\n",
    "encoded_v = \"кабы не было зимы в городах и селах\"\n",
    "key = \"сервер\"\n",
    "result5 = Vigener_crypt(encoded_v, 'e', key)\n",
    "println(\"Кодирование: '\", encoded_v, \"' => '\", result5, \"'\")\n",
    "result6 = Vigener_crypt(result5, 'd', key)\n",
    "println(\"Декодирование: '\", result5, \"' => '\", result6, \"'\")"
   ]
  },
  {
   "cell_type": "code",
   "execution_count": null,
   "id": "eee7b34d-b20a-436a-903e-6b71a310b502",
   "metadata": {},
   "outputs": [],
   "source": []
  }
 ],
 "metadata": {
  "kernelspec": {
   "display_name": "Julia 1.10.5",
   "language": "julia",
   "name": "julia-1.10"
  },
  "language_info": {
   "file_extension": ".jl",
   "mimetype": "application/julia",
   "name": "julia",
   "version": "1.10.5"
  }
 },
 "nbformat": 4,
 "nbformat_minor": 5
}
