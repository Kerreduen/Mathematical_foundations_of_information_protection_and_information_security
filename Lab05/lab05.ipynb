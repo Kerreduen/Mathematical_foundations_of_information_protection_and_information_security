{
 "cells": [
  {
   "cell_type": "markdown",
   "id": "939ab695-b27a-467c-ba11-e68500afc1cf",
   "metadata": {},
   "source": [
    "## <div align=\"center\"> <h2 align=\"center\"> РОССИЙСКИЙ УНИВЕРСИТЕТ ДРУЖБЫ НАРОДОВ </h1> </div>\n",
    "## <div align=\"center\"> <h3 align=\"center\"> Факультет физико-математических и естественных наук </h2> </div>\n",
    "## <div align=\"center\"> <h3 align=\"center\"> Кафедра математического моделирования и искусственного интеллекта </h2> </div>\n",
    "## <div align=\"center\"> <h3 align=\"center\"> Дисциплина: МОЗИиИБ </h2> </div>\n",
    "## Отчет по лабораторной работе № 5\n",
    "## Студент: Евдокимов Максим Михайлович\n",
    "## Группа: НФИмд-01-24\n",
    "## вероятностные алгоритмы проверки чисел на простоту"
   ]
  },
  {
   "cell_type": "markdown",
   "id": "cdf75cb8-9943-43e0-ae05-106aa2270807",
   "metadata": {},
   "source": [
    "# Задание\n",
    "\n",
    "Реализовать все представленные аглоритмы проверки чисел на простоту."
   ]
  },
  {
   "cell_type": "code",
   "execution_count": 124,
   "id": "15d8a186-a7b7-4f23-a3ce-1a1242b77828",
   "metadata": {},
   "outputs": [
    {
     "data": {
      "text/plain": [
       "10×2 Matrix{Any}:\n",
       " 2851   550\n",
       " 7759  3312\n",
       " 6263  4214\n",
       " 4902  2564\n",
       " 1393   210\n",
       " 1078   290\n",
       " 1310   371\n",
       " 8561  6590\n",
       " 3508  1684\n",
       " 8999  3569"
      ]
     },
     "execution_count": 124,
     "metadata": {},
     "output_type": "execute_result"
    }
   ],
   "source": [
    "# Создание списка для теста\n",
    "tests = Matrix(undef, 0, 2)\n",
    "for j in 1:10\n",
    "    p = rand(3:10000)\n",
    "    k = rand(1:p-1)\n",
    "    tests = vcat(tests, [p, k]')\n",
    "end\n",
    "tests"
   ]
  },
  {
   "cell_type": "code",
   "execution_count": 125,
   "id": "1711416d-0040-4dba-b2b8-62e9ebc04635",
   "metadata": {},
   "outputs": [
    {
     "name": "stdout",
     "output_type": "stream",
     "text": [
      "Тест Ферма:\n",
      "Число 2851 простое.\n",
      "Число 7759 простое.\n",
      "Число 6263 простое.\n",
      "Число 4902 НЕ простое.\n",
      "Число 1393 НЕ простое.\n",
      "Число 1078 НЕ простое.\n",
      "Число 1310 НЕ простое.\n",
      "Число 8561 НЕ простое.\n",
      "Число 3508 НЕ простое.\n",
      "Число 8999 простое.\n"
     ]
    }
   ],
   "source": [
    "# 1. Алгоритм теста Ферма\n",
    "function fermat_test(n::Int, k::Int=5)\n",
    "    if n <= 1\n",
    "        return false\n",
    "    elseif n <= 3\n",
    "        return true\n",
    "    end\n",
    "\n",
    "    for _ in 1:k\n",
    "        a = rand(2:n-2)\n",
    "        if powermod(a, n-1, n) != 1\n",
    "            return false\n",
    "        end\n",
    "    end\n",
    "    return true\n",
    "end\n",
    "\n",
    "println(\"Тест Ферма:\")\n",
    "for i in 1:size(tests)[1]\n",
    "    t = fermat_test(tests[i, 1], tests[i, 2])\n",
    "    println(\"Число \", tests[i, 1], t ? \"\" : \" НЕ\", \" простое.\")\n",
    "end"
   ]
  },
  {
   "cell_type": "code",
   "execution_count": 130,
   "id": "a9f9f3fb-d042-4953-b2f3-711ec5a95ed6",
   "metadata": {},
   "outputs": [
    {
     "name": "stdout",
     "output_type": "stream",
     "text": [
      "Символ Якоби:\n",
      "При n = 2851 и a = 550 символ Якоби = 1\n",
      "При n = 7759 и a = 3312 символ Якоби = 1\n",
      "При n = 6263 и a = 4214 символ Якоби = -1\n",
      "При n = 4902 и a = 2564 символ Якоби = Не подходит n четное.\n",
      "При n = 1393 и a = 210 символ Якоби = -1\n",
      "При n = 1078 и a = 290 символ Якоби = Не подходит n четное.\n",
      "При n = 1310 и a = 371 символ Якоби = Не подходит n четное.\n",
      "При n = 8561 и a = 6590 символ Якоби = 1\n",
      "При n = 3508 и a = 1684 символ Якоби = Не подходит n четное.\n",
      "При n = 8999 и a = 3569 символ Якоби = 1\n"
     ]
    }
   ],
   "source": [
    "# 2. Алгоритм вычисления символа Якоби\n",
    "function jacobi_symbol(n::Int, a::Int=5)\n",
    "    if n < 0 || iseven(n)\n",
    "        return \"Не подходит n четное.\"\n",
    "    end\n",
    "    a %= n\n",
    "    g = 1\n",
    "    \n",
    "    while a != 0\n",
    "        while iseven(a)\n",
    "            a >>= 1\n",
    "            if (n % 8) in [3, 5]\n",
    "                g = -g\n",
    "            end\n",
    "        end\n",
    "        a, n = n, a\n",
    "        if a % 4 == 3 && n % 4 == 3\n",
    "            g = -g\n",
    "        end\n",
    "        a %= n\n",
    "    end\n",
    "    return n == 1 ? g : 0\n",
    "end\n",
    "\n",
    "println(\"Символ Якоби:\")\n",
    "for i in 1:size(tests)[1]\n",
    "    t = jacobi_symbol(tests[i, 1])\n",
    "    println(\"При n = \", tests[i, 1], \" и a = \", tests[i, 2], \" символ Якоби = \", t)\n",
    "end"
   ]
  },
  {
   "cell_type": "code",
   "execution_count": 129,
   "id": "6576b065-f5de-4365-9008-6c8e416766c0",
   "metadata": {},
   "outputs": [
    {
     "name": "stdout",
     "output_type": "stream",
     "text": [
      "Тест Соловэя-Штрассена:\n",
      "При n = 2851 и k = 550: false\n",
      "При n = 7759 и k = 3312: false\n",
      "При n = 6263 и k = 4214: false\n",
      "При n = 4902 и k = 2564: Не подходит n четное.\n",
      "При n = 1393 и k = 210: false\n",
      "При n = 1078 и k = 290: Не подходит n четное.\n",
      "При n = 1310 и k = 371: Не подходит n четное.\n",
      "При n = 8561 и k = 6590: false\n",
      "При n = 3508 и k = 1684: Не подходит n четное.\n",
      "При n = 8999 и k = 3569: false\n"
     ]
    }
   ],
   "source": [
    "# 3. Алгоритм теста Соловэя-Штрассена\n",
    "function solovay_strassen__test(n::Int, k::Int=5)\n",
    "    if n <= 1\n",
    "        return false\n",
    "    elseif n <= 3\n",
    "        return true\n",
    "    end\n",
    "\n",
    "    for _ in 1:k\n",
    "        a = rand(2:n-2)\n",
    "        x = jacobi_symbol(n, a)\n",
    "        if typeof(x) == String\n",
    "            return x\n",
    "        end\n",
    "        if x == 0 || powermod(a, (n-1) ÷ 2, n) != x % n\n",
    "            return false\n",
    "        end\n",
    "    end\n",
    "    return true\n",
    "end\n",
    "\n",
    "println(\"Тест Соловэя-Штрассена:\")\n",
    "for i in 1:size(tests)[1]\n",
    "    t = solovay_strassen__test(tests[i, 1], tests[i, 2])\n",
    "    println(\"При n = \", tests[i, 1], \" и k = \", tests[i, 2], \": \", t)\n",
    "end"
   ]
  },
  {
   "cell_type": "code",
   "execution_count": 131,
   "id": "09f187d9-0ce7-4efe-aa54-6204690e3a2d",
   "metadata": {},
   "outputs": [
    {
     "name": "stdout",
     "output_type": "stream",
     "text": [
      "Тест Миллера-Рабина:\n",
      "Число 2851 простое.\n",
      "Число 7759 простое.\n",
      "Число 6263 простое.\n",
      "Число 4902 НЕ простое.\n",
      "Число 1393 НЕ простое.\n",
      "Число 1078 НЕ простое.\n",
      "Число 1310 НЕ простое.\n",
      "Число 8561 НЕ простое.\n",
      "Число 3508 НЕ простое.\n",
      "Число 8999 простое.\n"
     ]
    }
   ],
   "source": [
    "# 4. Алгоритм теста Миллера-Рабина\n",
    "function miller_rabin__test(n::Int, k::Int=5)\n",
    "    if n <= 1\n",
    "        return false\n",
    "    elseif n <= 3\n",
    "        return true\n",
    "    elseif iseven(n)\n",
    "        return false\n",
    "    end\n",
    "\n",
    "    # Разложение n-1 на d * 2^r\n",
    "    r, d = 0, n - 1\n",
    "    while iseven(d)\n",
    "        d >>= 1\n",
    "        r += 1\n",
    "    end\n",
    "\n",
    "    for _ in 1:k\n",
    "        a = rand(2:n-2)\n",
    "        x = powermod(a, d, n)\n",
    "        if x == 1 || x == n - 1\n",
    "            continue\n",
    "        end\n",
    "\n",
    "        for _ in 1:(r-1)\n",
    "            x = powermod(x, 2, n)\n",
    "            if x == n - 1\n",
    "                break\n",
    "            end\n",
    "        end\n",
    "\n",
    "        if x != n - 1\n",
    "            return false\n",
    "        end\n",
    "    end\n",
    "    return true\n",
    "end\n",
    "\n",
    "println(\"Тест Миллера-Рабина:\")\n",
    "for i in 1:size(tests)[1]\n",
    "    t = miller_rabin__test(tests[i, 1], tests[i, 2])\n",
    "    println(\"Число \", tests[i, 1], t ? \"\" : \" НЕ\", \" простое.\")\n",
    "end"
   ]
  },
  {
   "cell_type": "code",
   "execution_count": null,
   "id": "0379f7b7-3902-4ad9-917c-c13cc263dfbc",
   "metadata": {},
   "outputs": [],
   "source": []
  }
 ],
 "metadata": {
  "kernelspec": {
   "display_name": "Julia 1.10.5",
   "language": "julia",
   "name": "julia-1.10"
  },
  "language_info": {
   "file_extension": ".jl",
   "mimetype": "application/julia",
   "name": "julia",
   "version": "1.10.5"
  }
 },
 "nbformat": 4,
 "nbformat_minor": 5
}
