{
 "cells": [
  {
   "cell_type": "markdown",
   "id": "42848230-f8f5-4caa-b473-c2a7e16dcf33",
   "metadata": {},
   "source": [
    "## <div align=\"center\"> <h2 align=\"center\"> РОССИЙСКИЙ УНИВЕРСИТЕТ ДРУЖБЫ НАРОДОВ </h1> </div>\n",
    "## <div align=\"center\"> <h3 align=\"center\"> Факультет физико-математических и естественных наук </h2> </div>\n",
    "## <div align=\"center\"> <h3 align=\"center\"> Кафедра математического моделирования и искусственного интеллекта </h2> </div>\n",
    "## <div align=\"center\"> <h3 align=\"center\"> Дисциплина: МОЗИиИБ </h2> </div>\n",
    "## Отчет по лабораторной работе № 7\n",
    "## Студент: Евдокимов Максим Михайлович\n",
    "## Группа: НФИмд-01-24\n",
    "## Дискретное логарифмирование в конечном поле"
   ]
  },
  {
   "cell_type": "markdown",
   "id": "1a5f0077-5bff-403e-a984-74a412b7144e",
   "metadata": {},
   "source": [
    "# Задание\n",
    "\n",
    "Реализовать алгоритм программно (алгоритм, реализующий р-Метод Полларда для задач дискретного логарифмирования)."
   ]
  },
  {
   "cell_type": "code",
   "execution_count": 1,
   "id": "e9f7bce9-d6df-4350-b8fc-dc55d3ea4187",
   "metadata": {},
   "outputs": [
    {
     "data": {
      "text/plain": [
       "gcd_extended (generic function with 1 method)"
      ]
     },
     "execution_count": 1,
     "metadata": {},
     "output_type": "execute_result"
    }
   ],
   "source": [
    "# Расширенный алгоритм Евклида для нахождения обратного элемента\n",
    "function gcd_extended(a, b)\n",
    "    if a == 0\n",
    "        return b, 0, 1\n",
    "    end\n",
    "    gcd, x1, y1 = gcd_extended(b % a, a)\n",
    "    x = y1 - (b ÷ a) * x1\n",
    "    y = x1\n",
    "    return gcd, x, y\n",
    "end"
   ]
  },
  {
   "cell_type": "code",
   "execution_count": 11,
   "id": "cc514191-43fd-4c3e-b38b-67c7327ade22",
   "metadata": {},
   "outputs": [
    {
     "data": {
      "text/plain": [
       "discrete_log_pollard_rho (generic function with 1 method)"
      ]
     },
     "execution_count": 11,
     "metadata": {},
     "output_type": "execute_result"
    }
   ],
   "source": [
    "# Функция для вычисления следующего элемента в последовательности\n",
    "function discrete_log_pollard_rho(g, h, p)\n",
    "    function next_element(x, a, b)\n",
    "        if x < p // 3\n",
    "            return (g * x) % p, (a + 1) % (p - 1), b\n",
    "        elseif x < 2 * p // 3\n",
    "            return (x * x) % p, (2 * a) % (p - 1), (2 * b) % (p - 1)\n",
    "        else\n",
    "            return (h * x) % p, a, (b + 1) % (p - 1)\n",
    "        end\n",
    "    end\n",
    "\n",
    "    # Инициализация\n",
    "    x1, a1, b1 = 1, 0, 0\n",
    "    x2, a2, b2 = next_element(x1, a1, b1)\n",
    "    # Нахождение цикла\n",
    "    while x1 != x2\n",
    "        x1, a1, b1 = next_element(x1, a1, b1)\n",
    "        x2, a2, b2 = next_element(next_element(x2, a2, b2)...)\n",
    "    end\n",
    "\n",
    "    # Решаем уравнение\n",
    "    r = (b2 - b1) % (p - 1)\n",
    "    if r == 0\n",
    "        return \"Решение не найдено\"\n",
    "    end\n",
    "\n",
    "    d, x, y = gcd_extended(r, p - 1)\n",
    "    if d != 1\n",
    "        return \"Решение не найдено\"\n",
    "    end\n",
    "\n",
    "    l = ((a1 - a2) * x % (p - 1) + (p - 1)) % (p - 1)\n",
    "    return l\n",
    "end"
   ]
  },
  {
   "cell_type": "code",
   "execution_count": 110,
   "id": "90cc5ce8-3285-4f4d-acc1-aa42fea9c1d1",
   "metadata": {},
   "outputs": [
    {
     "name": "stdout",
     "output_type": "stream",
     "text": [
      "p: [7, 47, 41, 17, 23, 37, 47, 31, 7, 7]\n",
      "a: [5, 2, 3, 2, 3, 5, 2, 5, 4, 2]\n",
      "b: [3, 36, 29, 6, 8, 36, 29, 28, 3, 5]\n"
     ]
    }
   ],
   "source": [
    "# Тестовые значение\n",
    "using Primes\n",
    "n = 10\n",
    "p = map(x -> primes(50)[rand(1:15)], 1:n) # модуль в конечном поле F_p, где F*_p состоит из всех целых чисел от 1 до p-1\n",
    "a = map(x -> rand(2:5), p) # генератор, примитивный элемент при возведении в степень по модулю p может порождать все элементы группы F*_p\n",
    "b = map(x -> rand(1:x-1), p) # это элемент группы F*_p для которого мы хотим найти дискретный логарифм\n",
    "x = fill(0, n)\n",
    "println(\"p: \", p, \"\\na: \", a, \"\\nb: \", b)"
   ]
  },
  {
   "cell_type": "code",
   "execution_count": 111,
   "id": "9ba06eb6-850d-4f28-8fc5-6f1b7f906dba",
   "metadata": {},
   "outputs": [
    {
     "name": "stdout",
     "output_type": "stream",
     "text": [
      "При p = 7, a = 5, b = 3; дискретный логарифм x = 5\n",
      "При p = 47, a = 2, b = 36; дискретный логарифм x = 17\n",
      "При p = 41, a = 3, b = 29; дискретный логарифм x = Решение не найдено\n",
      "При p = 17, a = 2, b = 6; дискретный логарифм x = Решение не найдено\n",
      "При p = 23, a = 3, b = 8; дискретный логарифм x = 21\n",
      "При p = 37, a = 5, b = 36; дискретный логарифм x = Решение не найдено\n",
      "При p = 47, a = 2, b = 29; дискретный логарифм x = Решение не найдено\n",
      "При p = 31, a = 5, b = 28; дискретный логарифм x = Решение не найдено\n",
      "При p = 7, a = 4, b = 3; дискретный логарифм x = Решение не найдено\n",
      "При p = 7, a = 2, b = 5; дискретный логарифм x = Решение не найдено\n",
      "[5, 17, -1, -1, 21, -1, -1, -1, -1, -1]"
     ]
    }
   ],
   "source": [
    "# Вызов и вывод результатов\n",
    "for i in 1:n\n",
    "    result = discrete_log_pollard_rho(a[i], b[i], p[i])\n",
    "    x[i] = typeof(result) == String ? -1 : result\n",
    "    println(\"При p = \", p[i], \", a = \", a[i], \", b = \", b[i], \"; дискретный логарифм x = \", result)\n",
    "end\n",
    "print(x)"
   ]
  },
  {
   "cell_type": "code",
   "execution_count": 122,
   "id": "9986fdf2-b002-4c2a-8195-df2c5835f529",
   "metadata": {},
   "outputs": [
    {
     "name": "stdout",
     "output_type": "stream",
     "text": [
      "Для случая 1 значение x = 5 (точно правильно)\n",
      "Для случая 2 значение x = 17 (точно правильно)\n",
      "Для случая 3 значение x =  нет на интервале [1,50]\n",
      "Для случая 4 значение x =  нет на интервале [1,50]\n",
      "Для случая 5 значение x = 21 (точно правильно)\n",
      "Для случая 6 значение x =  нет на интервале [1,50]\n",
      "Для случая 7 значение x =  нет на интервале [1,50]\n",
      "Для случая 8 значение x =  нет на интервале [1,50]\n",
      "Для случая 9 значение x =  нет на интервале [1,50]\n",
      "Для случая 10 значение x =  нет на интервале [1,50]\n"
     ]
    }
   ],
   "source": [
    "# проверка по a^x = b (mod p) по Алгоритму Гельфонда — Шенкса\n",
    "function analysisX(g, h, p)\n",
    "    res = nothing\n",
    "    for x in 1:50\n",
    "        aX = g^x\n",
    "        divA = div(aX, p)\n",
    "        differ = aX - (divA * p)\n",
    "        if differ == b\n",
    "            res = x\n",
    "            break\n",
    "        end\n",
    "    end\n",
    "    return res\n",
    "end\n",
    "\n",
    "for i in 1:n\n",
    "    if x[i] == -1\n",
    "        an = analysisX(p[i], a[i], b[i])\n",
    "        println(\"Для случая \", i, \" значение x = \", an == nothing ? \" нет на интервале [1,50]\" : an)\n",
    "    else\n",
    "        aX = a[i]^x[i]\n",
    "        divA = div(aX, p[i])\n",
    "        differ = aX - (divA * p[i])\n",
    "        println(\"Для случая \", i, \" значение x = \", x[i], differ == b[i] ? \" (точно правильно)\" : \" (неправильно)\")\n",
    "    end\n",
    "end"
   ]
  },
  {
   "cell_type": "code",
   "execution_count": null,
   "id": "fab82aeb-7175-48a6-ba6b-a19d836fca0f",
   "metadata": {},
   "outputs": [],
   "source": []
  }
 ],
 "metadata": {
  "kernelspec": {
   "display_name": "Julia 1.10.5",
   "language": "julia",
   "name": "julia-1.10"
  },
  "language_info": {
   "file_extension": ".jl",
   "mimetype": "application/julia",
   "name": "julia",
   "version": "1.10.5"
  }
 },
 "nbformat": 4,
 "nbformat_minor": 5
}
