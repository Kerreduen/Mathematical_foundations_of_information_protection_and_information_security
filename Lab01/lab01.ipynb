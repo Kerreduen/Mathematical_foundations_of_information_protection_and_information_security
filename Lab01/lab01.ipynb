{
 "cells": [
  {
   "cell_type": "code",
   "execution_count": 1,
   "id": "73975e07-cff1-4c11-8a51-256c77cf463c",
   "metadata": {},
   "outputs": [
    {
     "data": {
      "text/plain": [
       "\"Лабораторная работа №1\\nЕвдокимов Максим Михайлович\\nНФИмд-01-24\\n\""
      ]
     },
     "execution_count": 1,
     "metadata": {},
     "output_type": "execute_result"
    }
   ],
   "source": [
    "\"\"\"\n",
    "Лабораторная работа №1\n",
    "Евдокимов Максим Михайлович\n",
    "НФИмд-01-24\n",
    "\"\"\""
   ]
  },
  {
   "cell_type": "code",
   "execution_count": 2,
   "id": "de66adeb-b1b1-4115-92cc-48d191558fc0",
   "metadata": {},
   "outputs": [],
   "source": [
    "# задание 1: шифр Цезаря"
   ]
  },
  {
   "cell_type": "code",
   "execution_count": 8,
   "id": "c1e45e1b-f35a-4e45-94af-81db2ebe915f",
   "metadata": {},
   "outputs": [
    {
     "data": {
      "text/plain": [
       "CaesarCode (generic function with 1 method)"
      ]
     },
     "execution_count": 8,
     "metadata": {},
     "output_type": "execute_result"
    }
   ],
   "source": [
    "function CaesarCode(text::String, k::Int) \n",
    "    result = \"\"\n",
    "    for char in text\n",
    "        if 'a' <= char <= 'z'\n",
    "            result *= 'a' + (char + k - 'a') % 26\n",
    "        elseif 'A' <= char <= 'Z'\n",
    "            result *= 'A' + (char + k - 'A') % 26\n",
    "        elseif 'а' <= char <= 'я'\n",
    "            result *= 'а' + (char + k - 'а') % 32\n",
    "        elseif 'А' <= char <= 'Я'\n",
    "            result *= 'А' + (char + k - 'А') % 32\n",
    "        else\n",
    "            result *= char\n",
    "        end\n",
    "    end\n",
    "    return result\n",
    "end"
   ]
  },
  {
   "cell_type": "code",
   "execution_count": 9,
   "id": "53d4459b-a26d-4430-968a-825611c2dc8a",
   "metadata": {},
   "outputs": [
    {
     "name": "stdout",
     "output_type": "stream",
     "text": [
      "Еъ пеп д ргжрг sfyzwj\n",
      "Хн йымр кц кфн bpm jmiab\n"
     ]
    }
   ],
   "source": [
    "println(CaesarCode(\"Ах как я люблю nature\", 5))\n",
    "println(CaesarCode(\"Не буди во вме the beast\", 8))"
   ]
  },
  {
   "cell_type": "code",
   "execution_count": 5,
   "id": "e6f60eba-7850-45f8-92cc-64e2d63bab19",
   "metadata": {},
   "outputs": [],
   "source": [
    "# Задание 2: шифр Атбаш"
   ]
  },
  {
   "cell_type": "code",
   "execution_count": 10,
   "id": "d60261ba-1e64-468c-8391-6dfd4f36a315",
   "metadata": {},
   "outputs": [
    {
     "data": {
      "text/plain": [
       "AtbashCode (generic function with 1 method)"
      ]
     },
     "execution_count": 10,
     "metadata": {},
     "output_type": "execute_result"
    }
   ],
   "source": [
    "function AtbashCode(text::String)\n",
    "    result = \"\"\n",
    "    for char in text\n",
    "        if 'a' <= char <= 'z'\n",
    "            result *= 'a' + ('z' - char)\n",
    "        elseif 'A' <= char <= 'Z'\n",
    "            result *= 'A' + ('Z' - char)\n",
    "        elseif 'а' <= char <= 'я'\n",
    "            result *= 'а' + ('я' - char)\n",
    "        elseif 'А' <= char <= 'Я'\n",
    "            result *= 'А' + ('Я' - char)\n",
    "        else\n",
    "            result *= char\n",
    "        end\n",
    "    end\n",
    "    return result\n",
    "end"
   ]
  },
  {
   "cell_type": "code",
   "execution_count": 11,
   "id": "71c5d1e4-ee7c-4562-ae7a-bca26a1e31fb",
   "metadata": {},
   "outputs": [
    {
     "name": "stdout",
     "output_type": "stream",
     "text": [
      "С иёу змуан givvh\n",
      "М тяо уяфс grnv\n"
     ]
    }
   ],
   "source": [
    "println(AtbashCode(\"О чём шумят trees\"))\n",
    "println(AtbashCode(\"У нас мало time\"))"
   ]
  },
  {
   "cell_type": "code",
   "execution_count": null,
   "id": "fc577880-2b72-4f98-97dd-fa381a967f0f",
   "metadata": {},
   "outputs": [],
   "source": []
  }
 ],
 "metadata": {
  "kernelspec": {
   "display_name": "Julia 1.10.5",
   "language": "julia",
   "name": "julia-1.10"
  },
  "language_info": {
   "file_extension": ".jl",
   "mimetype": "application/julia",
   "name": "julia",
   "version": "1.10.5"
  }
 },
 "nbformat": 4,
 "nbformat_minor": 5
}
