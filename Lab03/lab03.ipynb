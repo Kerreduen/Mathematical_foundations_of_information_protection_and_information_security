{
 "cells": [
  {
   "cell_type": "markdown",
   "id": "fbf60c60-2fa8-407c-92c3-fbde0c81a4cb",
   "metadata": {},
   "source": [
    "## <div align=\"center\"> <h2 align=\"center\"> РОССИЙСКИЙ УНИВЕРСИТЕТ ДРУЖБЫ НАРОДОВ </h1> </div>\n",
    "## <div align=\"center\"> <h3 align=\"center\"> Факультет физико-математических и естественных наук </h2> </div>\n",
    "## <div align=\"center\"> <h3 align=\"center\"> Кафедра математического моделирования и искусственного интеллекта </h2> </div>\n",
    "## <div align=\"center\"> <h3 align=\"center\"> Дисциплина: МОЗИиИБ </h2> </div>\n",
    "## Отчет по лабораторной работе № 3\n",
    "## Студент: Евдокимов Максим Михайлович\n",
    "## Группа: НФИмд-01-24\n",
    "## Шифры перестоновки"
   ]
  },
  {
   "cell_type": "markdown",
   "id": "d5948e91-a5e1-4db1-860a-0e8b2bcc8ade",
   "metadata": {},
   "source": [
    "# Задание:\n",
    "реализовать алгоритм шифрования гаммированием конечной гаммой"
   ]
  },
  {
   "cell_type": "code",
   "execution_count": 1,
   "id": "55be2a44-fcb9-4e4e-9cd7-36b2a8d18372",
   "metadata": {},
   "outputs": [
    {
     "name": "stdout",
     "output_type": "stream",
     "text": [
      "Зашифрованный текст: \f",
      "0\u0004\u0006\u0000\u0004\n",
      "Расшифрованный текст: ПРИКАЗ\n"
     ]
    }
   ],
   "source": [
    "# функция Гаммирования c любыми символами из ASCII/Unicode\n",
    "function gamming_encryptV1(t::String, k::String)\n",
    "    text_b = map(Int, collect(t))\n",
    "    key_b = map(Int, collect(k))\n",
    "    lenT, lenK = length(text_b), length(key_b)\n",
    "    \n",
    "    encrypted_b = [xor(text_b[i], key_b[1+(i-1)%lenK]) for i in 1:lenT]\n",
    "    result = map(Char, encrypted_b)\n",
    "\n",
    "    return join(result)\n",
    "end\n",
    "\n",
    "text = \"ПРИКАЗ\"\n",
    "key = \"ГАММА\"\n",
    "\n",
    "encrypted_text = gamming_encryptV1(text, key)\n",
    "println(\"Зашифрованный текст: \", encrypted_text)\n",
    "\n",
    "decrypted_text = gamming_encryptV1(encrypted_text, key)\n",
    "println(\"Расшифрованный текст: \", decrypted_text)"
   ]
  },
  {
   "cell_type": "code",
   "execution_count": 2,
   "id": "b4a7c99b-2625-496c-805f-aee56bc8f1cf",
   "metadata": {},
   "outputs": [
    {
     "name": "stdout",
     "output_type": "stream",
     "text": [
      "1 a | 2 b | 3 c | 4 d | 5 e | \n",
      "6 f | 7 g | 8 h | 9 i | 10 j | \n",
      "11 k | 12 l | 13 m | 14 n | 15 o | \n",
      "16 p | 17 q | 18 r | 19 s | 20 t | \n",
      "21 u | 22 v | 23 w | 24 x | 25 y | \n",
      "26 z | 27 A | 28 B | 29 C | 30 D | \n",
      "31 E | 32 F | 33 G | 34 H | 35 I | \n",
      "36 J | 37 K | 38 L | 39 M | 40 N | \n",
      "41 O | 42 P | 43 Q | 44 R | 45 S | \n",
      "46 T | 47 U | 48 V | 49 W | 50 X | \n",
      "51 Y | 52 Z | 53 а | 54 б | 55 в | \n",
      "56 г | 57 д | 58 е | 59 ж | 60 з | \n",
      "61 и | 62 й | 63 к | 64 л | 65 м | \n",
      "66 н | 67 о | 68 п | 69 р | 70 с | \n",
      "71 т | 72 у | 73 ф | 74 х | 75 ц | \n",
      "76 ч | 77 ш | 78 щ | 79 ъ | 80 ы | \n",
      "81 ь | 82 э | 83 ю | 84 я | 85 А | \n",
      "86 Б | 87 В | 88 Г | 89 Д | 90 Е | \n",
      "91 Ж | 92 З | 93 И | 94 Й | 95 К | \n",
      "96 Л | 97 М | 98 Н | 99 О | 100 П | \n",
      "101 Р | 102 С | 103 Т | 104 У | 105 Ф | \n",
      "106 Х | 107 Ц | 108 Ч | 109 Ш | 110 Щ | \n",
      "111 Ъ | 112 Ы | 113 Ь | 114 Э | 115 Ю | \n"
     ]
    }
   ],
   "source": [
    "matr = vcat('a':'z', 'A':'Z', 'а':'я', 'А':'Я')\n",
    "for i in 1:5:length(matr)-1\n",
    "    println(i, \" \", matr[i], \" | \", i+1, \" \", matr[i+1], \" | \", i+2, \" \", matr[i+2], \" | \", i+3, \" \", matr[i+3], \" | \", i+4, \" \", matr[i+4], \" | \")\n",
    "end"
   ]
  },
  {
   "cell_type": "code",
   "execution_count": 3,
   "id": "298ad487-f6ac-4a49-a3ef-ad66b3c0fab4",
   "metadata": {},
   "outputs": [
    {
     "name": "stdout",
     "output_type": "stream",
     "text": [
      "Зашифрованный текст: зVзй_d\n",
      "Расшифрованный текст: ПРИКАЗ\n"
     ]
    }
   ],
   "source": [
    "# функция Гаммирования c символами из диапазона\n",
    "function gamming_encryptV2(t::String, k::String)\n",
    "    alf = vcat('_', 'a':'z', 'A':'Z', 'а':'я', 'А':'Я')\n",
    "    text_b = [findfirst(x -> x == elem, alf)-1 for elem in collect(t)]\n",
    "    key_b = [findfirst(x -> x == elem, alf)-1 for elem in collect(k)]\n",
    "    lenT, lenK = length(text_b), length(key_b)\n",
    "    \n",
    "    encrypted_b = [xor(text_b[i], key_b[1+(i-1)%lenK])+1 for i in 1:lenT]\n",
    "    result = alf[encrypted_b]\n",
    "    return join(result)\n",
    "end\n",
    "\n",
    "text = \"ПРИКАЗ\"\n",
    "key = \"ГАММА\"\n",
    "\n",
    "encrypted_text = gamming_encryptV2(text, key)\n",
    "println(\"Зашифрованный текст: \", encrypted_text)\n",
    "\n",
    "decrypted_text = gamming_encryptV2(encrypted_text, key)\n",
    "println(\"Расшифрованный текст: \", decrypted_text)"
   ]
  },
  {
   "cell_type": "code",
   "execution_count": null,
   "id": "536ebc9b-093a-4851-84a3-cf9e6a9bdf13",
   "metadata": {},
   "outputs": [],
   "source": []
  }
 ],
 "metadata": {
  "kernelspec": {
   "display_name": "Julia 1.10.5",
   "language": "julia",
   "name": "julia-1.10"
  },
  "language_info": {
   "file_extension": ".jl",
   "mimetype": "application/julia",
   "name": "julia",
   "version": "1.10.5"
  }
 },
 "nbformat": 4,
 "nbformat_minor": 5
}
