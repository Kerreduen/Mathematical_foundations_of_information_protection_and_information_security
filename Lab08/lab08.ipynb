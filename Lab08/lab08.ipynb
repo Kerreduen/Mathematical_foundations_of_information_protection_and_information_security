{
 "cells": [
  {
   "cell_type": "markdown",
   "id": "0cdb1e50-e84a-4d9e-a966-b48821a3dde2",
   "metadata": {},
   "source": [
    "## <div align=\"center\"> <h2 align=\"center\"> РОССИЙСКИЙ УНИВЕРСИТЕТ ДРУЖБЫ НАРОДОВ </h1> </div>\n",
    "## <div align=\"center\"> <h3 align=\"center\"> Факультет физико-математических и естественных наук </h2> </div>\n",
    "## <div align=\"center\"> <h3 align=\"center\"> Кафедра математического моделирования и искусственного интеллекта </h2> </div>\n",
    "## <div align=\"center\"> <h3 align=\"center\"> Дисциплина: МОЗИиИБ </h2> </div>\n",
    "## Отчет по лабораторной работе № 8\n",
    "## Студент: Евдокимов Максим Михайлович\n",
    "## Группа: НФИмд-01-24\n",
    "## Целочисленная арифметика многократной точности"
   ]
  },
  {
   "cell_type": "markdown",
   "id": "7cab52b4-7bc2-49bf-816a-3591007e1a62",
   "metadata": {},
   "source": [
    "# Задание\n",
    "\n",
    "1. сложение неотрицательных целых чисел.\n",
    "2. вычитание неотрицательных целых чисел.\n",
    "3. умножение неотрицательных целых чисел.\n",
    "4. быстрый столбик.\n",
    "5. деление многоразрядных целых чисел."
   ]
  },
  {
   "cell_type": "code",
   "execution_count": 1,
   "id": "2f5d4502-84cd-41e6-a911-4071199d6415",
   "metadata": {},
   "outputs": [
    {
     "data": {
      "text/plain": [
       "add_big_integers (generic function with 1 method)"
      ]
     },
     "execution_count": 1,
     "metadata": {},
     "output_type": "execute_result"
    }
   ],
   "source": [
    "# сложение неотрицательных целых чисел\n",
    "function add_big_integers(a::Vector{Int}, b::Vector{Int})\n",
    "    lenA, lenB = length(a), length(b)\n",
    "    lenC, k = max(lenA, lenB), 0\n",
    "    result = zeros(Int, lenC)\n",
    "    \n",
    "    # Дополняем меньшее число нулями слева\n",
    "    if lenA < lenC\n",
    "        a = vcat(zeros(Int, lenC - lenA), a)\n",
    "    elseif lenB < lenC\n",
    "        b = vcat(zeros(Int, lenC - lenB), b)\n",
    "    end\n",
    "    \n",
    "    for i in lenC:-1:1\n",
    "        sum = a[i] + b[i] + k\n",
    "        result[i] = sum % 10\n",
    "        k = sum ÷ 10\n",
    "    end\n",
    "    if k > 0\n",
    "        return [k; result]\n",
    "    else\n",
    "        return result \n",
    "    end\n",
    "end"
   ]
  },
  {
   "cell_type": "code",
   "execution_count": 151,
   "id": "c13334e8-f04a-4f4b-b733-f09792ca4bb9",
   "metadata": {},
   "outputs": [
    {
     "data": {
      "text/plain": [
       "subtract_big_integers (generic function with 1 method)"
      ]
     },
     "execution_count": 151,
     "metadata": {},
     "output_type": "execute_result"
    }
   ],
   "source": [
    "# вычитание неотрицательных целых чисел\n",
    "function subtract_big_integers(a::Vector{Int}, b::Vector{Int})\n",
    "    lenA, lenB = length(a), length(b)\n",
    "    lenC, k = max(lenA, lenB), 0\n",
    "    result = zeros(Int, lenC)\n",
    "    if lenA < lenB || (lenA == lenB && a < b)\n",
    "        a, b = b, a\n",
    "        negative_result = true\n",
    "    else\n",
    "        negative_result = false\n",
    "    end\n",
    "    \n",
    "    # Дополняем меньшее число нулями слева\n",
    "    if lenA < lenC\n",
    "        a = vcat(zeros(Int, lenC - lenA), a)\n",
    "    elseif lenB < lenC\n",
    "        b = vcat(zeros(Int, lenC - lenB), b)\n",
    "    end\n",
    "    \n",
    "    for i in length(a):-1:1\n",
    "        a_digit = a[i]\n",
    "        b_digit = b[i]\n",
    "        diff = a_digit - b_digit - k\n",
    "        if diff < 0\n",
    "            diff += 10\n",
    "            k = 1\n",
    "        else\n",
    "            k = 0\n",
    "        end\n",
    "        result[i] = diff\n",
    "    end\n",
    "    \n",
    "    while result[1] == 0 && length(result) > 1\n",
    "        popfirst!(result)\n",
    "    end\n",
    "    return result\n",
    "end"
   ]
  },
  {
   "cell_type": "code",
   "execution_count": 3,
   "id": "fda9d6b4-50c7-420e-b8e1-bbf9b1ea4b89",
   "metadata": {},
   "outputs": [
    {
     "data": {
      "text/plain": [
       "multiply_big_integers (generic function with 1 method)"
      ]
     },
     "execution_count": 3,
     "metadata": {},
     "output_type": "execute_result"
    }
   ],
   "source": [
    "# умножение неотрицательных целых чисел\n",
    "function multiply_big_integers(a::Vector{Int}, b::Vector{Int})\n",
    "    lenA, lenB = length(a), length(b)\n",
    "    result = zeros(Int, lenA+lenB+1)\n",
    "    lenC = max(lenA, lenB)\n",
    "    \n",
    "    for i in lenA:-1:1\n",
    "        for j in lenB:-1:1\n",
    "            product = a[i] * b[j]\n",
    "            sum = result[i+j+1] + product\n",
    "            result[i+j+1] = sum % 10\n",
    "            result[i+j] += sum ÷ 10\n",
    "        end\n",
    "    end\n",
    "    \n",
    "    # Убираем ведущие нули\n",
    "    while length(result) > 1 && result[1] == 0\n",
    "        result = result[2:end]\n",
    "    end\n",
    "    return result\n",
    "end"
   ]
  },
  {
   "cell_type": "code",
   "execution_count": 162,
   "id": "7e2976ab-8c97-4a2a-9d6b-d1636295200b",
   "metadata": {},
   "outputs": [
    {
     "data": {
      "text/plain": [
       "split_vector (generic function with 2 methods)"
      ]
     },
     "execution_count": 162,
     "metadata": {},
     "output_type": "execute_result"
    }
   ],
   "source": [
    "# быстрый столбик для неотрицательных целых чисел\n",
    "function karatsuba_multiply(a::Vector{Int}, b::Vector{Int})\n",
    "    if length(a) <= 1 || length(b) <= 1\n",
    "        return [a[1] * b[1]]\n",
    "    end\n",
    "    lenA, lenB, lenC = length(a), length(b), length(a)+length(b)\n",
    "    m = max(lenA, lenB) ÷ 2\n",
    "    high1, low1 = split_vector(a, m, lenA)\n",
    "    high2, low2 = split_vector(b, m, lenB)\n",
    "    \n",
    "    z0 = multiply_big_integers(low1, low2) # a_0 * b_0\n",
    "    z1 = multiply_big_integers(low1, high2) # a_0 * b_1\n",
    "    z2 = multiply_big_integers(high1, low2) # a_1 * b_0\n",
    "    z3 = multiply_big_integers(high1, high2) # a_1 * b_1\n",
    "    \n",
    "    el0, el1, el2 = vcat(z3, zeros(Int, m*2)), vcat(zeros(Int, m), add_big_integers(z1, z2), zeros(Int, m)), vcat(zeros(Int, m*2), z0)\n",
    "    z = add_big_integers(add_big_integers(el0, el2), el1)\n",
    "    if z[1] == 0\n",
    "        return z[2:end]\n",
    "    end\n",
    "    return z \n",
    "end\n",
    "\n",
    "# Функция для разделения вектора на две части\n",
    "function split_vector(v::Vector{Int}, m::Int, l::Int)\n",
    "    high = v[1:l-m]\n",
    "    low = v[l-m+1:end]\n",
    "    return high, low\n",
    "end"
   ]
  },
  {
   "cell_type": "code",
   "execution_count": 161,
   "id": "1e46af00-8be8-4152-9b8f-39dc48085751",
   "metadata": {},
   "outputs": [
    {
     "data": {
      "text/plain": [
       "divide_big_integers (generic function with 1 method)"
      ]
     },
     "execution_count": 161,
     "metadata": {},
     "output_type": "execute_result"
    }
   ],
   "source": [
    "# деление многоразрядных целых чисел\n",
    "function divide_big_integers(a::Vector{Int}, b::Vector{Int})\n",
    "    function vector_to_bigint(v::Vector{Int})\n",
    "        result = BigInt(0)\n",
    "        for digit in v\n",
    "            result = result * 10 + digit\n",
    "        end\n",
    "        return result\n",
    "    end\n",
    "    \n",
    "    a_big = vector_to_bigint(a)\n",
    "    b_big = vector_to_bigint(b)\n",
    "\n",
    "    result = a_big ÷ b_big\n",
    "    remainder = a_big % b_big\n",
    "    result_digits = reverse(digits(result))\n",
    "    \n",
    "    fractional_part = Vector{Int}()\n",
    "    for _ in 1:10\n",
    "        remainder *= 10\n",
    "        digit = remainder ÷ b_big\n",
    "        remainder %= b_big\n",
    "        push!(fractional_part, digit)\n",
    "    end\n",
    "    \n",
    "    return result_digits, fractional_part\n",
    "end"
   ]
  },
  {
   "cell_type": "code",
   "execution_count": 159,
   "id": "396ce444-6795-4642-8b78-9751ce2d52c0",
   "metadata": {},
   "outputs": [
    {
     "data": {
      "text/plain": [
       "([4, 1, 3, 8, 1, 2, 7, 1, 4, 9, 5, 1], [3, 7, 1, 7, 6, 5, 6, 8, 2, 2, 7, 8])"
      ]
     },
     "execution_count": 159,
     "metadata": {},
     "output_type": "execute_result"
    }
   ],
   "source": [
    "# Наши значния\n",
    "numb1, numb2 = rand(1:9, 12), rand(1:9, 12)"
   ]
  },
  {
   "cell_type": "code",
   "execution_count": 164,
   "id": "4aa858a8-f1f7-4857-b74a-f5454cac2b32",
   "metadata": {},
   "outputs": [
    {
     "name": "stdout",
     "output_type": "stream",
     "text": [
      "Сумма: [7, 8, 5, 5, 7, 8, 3, 9, 7, 2, 2, 9]\n",
      "Разность: [4, 2, 0, 4, 7, 0, 3, 2, 6, 7, 3]\n",
      "Произведение: [1, 5, 3, 8, 4, 1, 3, 6, 6, 3, 0, 9, 0, 7, 0, 0, 4, 6, 3, 3, 8, 3, 7, 8]\n",
      "Произведение (быстрый столбик): [1, 5, 3, 8, 4, 1, 3, 6, 6, 3, 0, 9, 0, 7, 0, 0, 4, 6, 3, 3, 8, 3, 7, 8]\n",
      "Целая часть: [1]\n",
      "Остаток: [1, 1, 3, 1, 0, 0, 8, 9, 8, 4]\n"
     ]
    }
   ],
   "source": [
    "sum = add_big_integers(numb1, numb2)\n",
    "println(\"Сумма: \", sum)\n",
    "\n",
    "diff = subtract_big_integers(numb1, numb2)\n",
    "println(\"Разность: \", diff)\n",
    "\n",
    "product = multiply_big_integers(numb1, numb2)\n",
    "println(\"Произведение: \", product)\n",
    "\n",
    "karatsuba_product = karatsuba_multiply(numb1, numb2)\n",
    "println(\"Произведение (быстрый столбик): \", karatsuba_product)\n",
    "\n",
    "quotient, remainder = divide_big_integers(numb1, numb2)\n",
    "println(\"Целая часть: \", quotient)\n",
    "println(\"Остаток: \", remainder)"
   ]
  },
  {
   "cell_type": "code",
   "execution_count": null,
   "id": "db9ff66e-650a-4927-82c4-3587fc598dce",
   "metadata": {},
   "outputs": [],
   "source": []
  }
 ],
 "metadata": {
  "kernelspec": {
   "display_name": "Julia 1.10.5",
   "language": "julia",
   "name": "julia-1.10"
  },
  "language_info": {
   "file_extension": ".jl",
   "mimetype": "application/julia",
   "name": "julia",
   "version": "1.10.5"
  }
 },
 "nbformat": 4,
 "nbformat_minor": 5
}
