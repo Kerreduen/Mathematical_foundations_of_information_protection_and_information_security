{
 "cells": [
  {
   "cell_type": "markdown",
   "id": "31300052-a77c-4c54-b960-ace8a1e47437",
   "metadata": {},
   "source": [
    "## <div align=\"center\"> <h2 align=\"center\"> РОССИЙСКИЙ УНИВЕРСИТЕТ ДРУЖБЫ НАРОДОВ </h1> </div>\n",
    "## <div align=\"center\"> <h3 align=\"center\"> Факультет физико-математических и естественных наук </h2> </div>\n",
    "## <div align=\"center\"> <h3 align=\"center\"> Кафедра математического моделирования и искусственного интеллекта </h2> </div>\n",
    "## <div align=\"center\"> <h3 align=\"center\"> Дисциплина: МОЗИиИБ </h2> </div>\n",
    "## Отчет по лабораторной работе № 4\n",
    "## Студент: Евдокимов Максим Михайлович\n",
    "## Группа: НФИмд-01-24\n",
    "## Вычисление наибольшего общего делителя"
   ]
  },
  {
   "cell_type": "markdown",
   "id": "7bb2a9b5-2546-4c45-a2ed-5eb3ad91563a",
   "metadata": {},
   "source": [
    "# задание\n",
    "\n",
    "Реализовать все представленные аглоритмы вычисления наибольшего общего делителя"
   ]
  },
  {
   "cell_type": "code",
   "execution_count": 52,
   "id": "f32b30c1-a5eb-4278-8f50-06d32d9174ff",
   "metadata": {},
   "outputs": [
    {
     "name": "stdout",
     "output_type": "stream",
     "text": [
      "Тест 1) Наибольший делитель для 30 и 12:  6\n",
      "Тест 2) Наибольший делитель для 4 и 0:  4\n",
      "Тест 3) Наибольший делитель для 7 и 1:  1\n",
      "Тест 4) Наибольший делитель для 125 и 25:  25\n",
      "Тест 5) Наибольший делитель для 13 и 31:  1\n",
      "Тест 6) Наибольший делитель для 450 и 45:  45\n",
      "Тест 7) Наибольший делитель для 3140 и 720:  20\n",
      "Тест 8) Наибольший делитель для 330 и 18:  6\n"
     ]
    }
   ],
   "source": [
    "# 1. Алгоритм Евклида\n",
    "function Euclid_alg(a::Int, b::Int)\n",
    "    if b == 0\n",
    "        return (a, 1, 0)\n",
    "    else\n",
    "        g, x1, y1 = Euclid_alg(b, a % b)\n",
    "        y, x = x1 - (a ÷ b) * y1, y1\n",
    "        return (g, x, y)\n",
    "    end\n",
    "end\n",
    "\n",
    "tests = [30 12; 4 0; 7 1; 125 25; 13 31; 450 45; 3140 720; 330 18]\n",
    "for i in 1:size(tests)[1]\n",
    "    t = Euclid_alg(tests[i, 1], tests[i, 2])\n",
    "    println(\"Тест \", i ,\") Наибольший делитель для \", tests[i, 1],\" и \", tests[i, 2],\":  \", t[1])\n",
    "end"
   ]
  },
  {
   "cell_type": "code",
   "execution_count": 53,
   "id": "ec9589f8-28a3-45e4-a077-4e188c5bed2b",
   "metadata": {},
   "outputs": [
    {
     "name": "stdout",
     "output_type": "stream",
     "text": [
      "Тест 1) Наибольший делитель для 30 и 12:  6\n",
      "Тест 2) Наибольший делитель для 4 и 0:  4\n",
      "Тест 3) Наибольший делитель для 7 и 1:  1\n",
      "Тест 4) Наибольший делитель для 125 и 25:  25\n",
      "Тест 5) Наибольший делитель для 13 и 31:  1\n",
      "Тест 6) Наибольший делитель для 450 и 45:  45\n",
      "Тест 7) Наибольший делитель для 3140 и 720:  20\n",
      "Тест 8) Наибольший делитель для 330 и 18:  6\n"
     ]
    }
   ],
   "source": [
    "# 2. Бинарный алгоритм Евклида\n",
    "function bin_Euclid_alg(a::Int, b::Int)\n",
    "    if a == 0\n",
    "        return (abs(b), 0, sign(b))\n",
    "    elseif b == 0\n",
    "        return (abs(a), sign(a), 0)\n",
    "    end\n",
    "    a, b, shift = abs(a), abs(b), 0\n",
    "\n",
    "    while iseven(a) && iseven(b)\n",
    "        a >>= 1\n",
    "        b >>= 1\n",
    "        shift += 1\n",
    "    end\n",
    "\n",
    "    u, v, A, B, C, D = a, b, 1, 0, 0, 1\n",
    "\n",
    "    while iseven(u)\n",
    "        u >>= 1\n",
    "        if iseven(A) && iseven(B)\n",
    "            A >>= 1\n",
    "            B >>= 1\n",
    "        else\n",
    "            A = (A + b) >> 1\n",
    "            B = (B - a) >> 1\n",
    "        end\n",
    "    end\n",
    "\n",
    "    while u != v\n",
    "        if iseven(v)\n",
    "            v >>= 1\n",
    "            if iseven(C) && iseven(D)\n",
    "                C >>= 1\n",
    "                D >>= 1\n",
    "            else\n",
    "                C = (C + b) >> 1\n",
    "                D = (D - a) >> 1\n",
    "            end\n",
    "        elseif v < u\n",
    "            u, A, B, v, C, D = v, C, D, u, A, B\n",
    "        else\n",
    "            v -= u\n",
    "            C -= A\n",
    "            D -= B\n",
    "        end\n",
    "    end\n",
    "\n",
    "    return (u << shift, A, B)\n",
    "end\n",
    "\n",
    "tests = [30 12; 4 0; 7 1; 125 25; 13 31; 450 45; 3140 720; 330 18]\n",
    "for i in 1:size(tests)[1]\n",
    "    t = bin_Euclid_alg(tests[i, 1], tests[i, 2])\n",
    "    println(\"Тест \", i ,\") Наибольший делитель для \", tests[i, 1],\" и \", tests[i, 2],\":  \", t[1])\n",
    "end"
   ]
  },
  {
   "cell_type": "code",
   "execution_count": 54,
   "id": "1e5182db-49f6-4bb3-b7ce-cad58ec0988c",
   "metadata": {},
   "outputs": [
    {
     "name": "stdout",
     "output_type": "stream",
     "text": [
      "Тест 1) Наибольший делитель для 30 и 12:  (6, 1, -2)\n",
      "Тест 2) Наибольший делитель для 4 и 0:  (4, 1, 0)\n",
      "Тест 3) Наибольший делитель для 7 и 1:  (1, 0, 1)\n",
      "Тест 4) Наибольший делитель для 125 и 25:  (25, 0, 1)\n",
      "Тест 5) Наибольший делитель для 13 и 31:  (1, 12, -5)\n",
      "Тест 6) Наибольший делитель для 450 и 45:  (45, 0, 1)\n",
      "Тест 7) Наибольший делитель для 3140 и 720:  (20, -11, 48)\n",
      "Тест 8) Наибольший делитель для 330 и 18:  (6, 1, -18)\n"
     ]
    }
   ],
   "source": [
    "# 3. Расширенный алгоритм Евклида\n",
    "function ext_Euclid_alg(a::Int, b::Int)\n",
    "    if b == 0\n",
    "        return (a, 1, 0)\n",
    "    else\n",
    "        g, x1, y1 = ext_Euclid_alg(b, a % b)\n",
    "        x = y1\n",
    "        y = x1 - (a ÷ b) * y1\n",
    "        return (g, x, y)\n",
    "    end\n",
    "end\n",
    "\n",
    "tests = [30 12; 4 0; 7 1; 125 25; 13 31; 450 45; 3140 720; 330 18]\n",
    "for i in 1:size(tests)[1]\n",
    "    t = ext_Euclid_alg(tests[i, 1], tests[i, 2])\n",
    "    println(\"Тест \", i ,\") Наибольший делитель для \", tests[i, 1],\" и \", tests[i, 2],\":  \", t)\n",
    "end"
   ]
  },
  {
   "cell_type": "code",
   "execution_count": 55,
   "id": "aec0b269-4f5a-4aee-9679-5a2bba0587a9",
   "metadata": {},
   "outputs": [
    {
     "name": "stdout",
     "output_type": "stream",
     "text": [
      "Тест 1) Наибольший делитель для 30 и 12:  (6, 3, -7)\n",
      "Тест 2) Наибольший делитель для 4 и 0:  (4, 1, 0)\n",
      "Тест 3) Наибольший делитель для 7 и 1:  (1, 0, 1)\n",
      "Тест 4) Наибольший делитель для 125 и 25:  (25, 0, 1)\n",
      "Тест 5) Наибольший делитель для 13 и 31:  (1, 12, -5)\n",
      "Тест 6) Наибольший делитель для 450 и 45:  (45, 0, 1)\n",
      "Тест 7) Наибольший делитель для 3140 и 720:  (20, 97, -423)\n",
      "Тест 8) Наибольший делитель для 330 и 18:  (6, 4, -73)\n"
     ]
    }
   ],
   "source": [
    "# 4. Расширенный бинарный алгоритм Евклида\n",
    "function ext_bin_Euclid_alg(a::Int, b::Int)\n",
    "    if a == 0\n",
    "        return (abs(b), 0, sign(b))\n",
    "    elseif b == 0\n",
    "        return (abs(a), sign(a), 0)\n",
    "    end\n",
    "    a, b, shift = abs(a), abs(b), 0\n",
    "    \n",
    "    while iseven(a) && iseven(b)\n",
    "        a >>= 1\n",
    "        b >>= 1\n",
    "        shift += 1\n",
    "    end\n",
    "\n",
    "    u, v, A, B, C, D = a, b, 1, 0, 0, 1\n",
    "\n",
    "    while iseven(u)\n",
    "        u >>= 1\n",
    "        if iseven(A) && iseven(B)\n",
    "            A >>= 1\n",
    "            B >>= 1\n",
    "        else\n",
    "            A = (A + b) >> 1\n",
    "            B = (B - a) >> 1\n",
    "        end\n",
    "    end\n",
    "\n",
    "    while u != v\n",
    "        if iseven(v)\n",
    "            v >>= 1\n",
    "            if iseven(C) && iseven(D)\n",
    "                C >>= 1\n",
    "                D >>= 1\n",
    "            else\n",
    "                C = (C + b) >> 1\n",
    "                D = (D - a) >> 1\n",
    "            end\n",
    "        elseif v < u\n",
    "            u, A, B, v, C, D = v, C, D, u, A, B\n",
    "        else\n",
    "            v -= u\n",
    "            C -= A\n",
    "            D -= B\n",
    "        end\n",
    "    end\n",
    "\n",
    "    return (u << shift, A, B)\n",
    "end\n",
    "\n",
    "tests = [30 12; 4 0; 7 1; 125 25; 13 31; 450 45; 3140 720; 330 18]\n",
    "for i in 1:size(tests)[1]\n",
    "    t = ext_bin_Euclid_alg(tests[i, 1], tests[i, 2])\n",
    "    println(\"Тест \", i ,\") Наибольший делитель для \", tests[i, 1],\" и \", tests[i, 2],\":  \", t)\n",
    "end"
   ]
  },
  {
   "cell_type": "code",
   "execution_count": null,
   "id": "fde1ef2b-1edf-4214-aff0-8e752aafd30f",
   "metadata": {},
   "outputs": [],
   "source": []
  }
 ],
 "metadata": {
  "kernelspec": {
   "display_name": "Julia 1.10.5",
   "language": "julia",
   "name": "julia-1.10"
  },
  "language_info": {
   "file_extension": ".jl",
   "mimetype": "application/julia",
   "name": "julia",
   "version": "1.10.5"
  }
 },
 "nbformat": 4,
 "nbformat_minor": 5
}
